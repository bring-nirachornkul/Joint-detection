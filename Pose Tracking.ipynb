{
 "cells": [
  {
   "cell_type": "code",
   "execution_count": 2,
   "id": "a3cef234",
   "metadata": {},
   "outputs": [
    {
     "name": "stdout",
     "output_type": "stream",
     "text": [
      "Collecting mediapipe-silicon\n",
      "  Downloading mediapipe_silicon-0.8.11-cp310-cp310-macosx_12_0_arm64.whl (62.1 MB)\n",
      "\u001b[2K     \u001b[90m━━━━━━━━━━━━━━━━━━━━━━━━━━━━━━━━━━━━━━━━\u001b[0m \u001b[32m62.1/62.1 MB\u001b[0m \u001b[31m8.0 MB/s\u001b[0m eta \u001b[36m0:00:00\u001b[0m00:01\u001b[0m00:01\u001b[0mm\n",
      "\u001b[?25hRequirement already satisfied: attrs>=19.1.0 in /Users/bring/miniforge3/lib/python3.10/site-packages (from mediapipe-silicon) (22.1.0)\n",
      "Collecting opencv-contrib-python\n",
      "  Downloading opencv_contrib_python-4.6.0.66-cp37-abi3-macosx_11_0_arm64.whl (38.9 MB)\n",
      "\u001b[2K     \u001b[90m━━━━━━━━━━━━━━━━━━━━━━━━━━━━━━━━━━━━━━━━\u001b[0m \u001b[32m38.9/38.9 MB\u001b[0m \u001b[31m9.2 MB/s\u001b[0m eta \u001b[36m0:00:00\u001b[0m00:01\u001b[0m00:01\u001b[0m\n",
      "\u001b[?25hCollecting protobuf<4,>=3.11\n",
      "  Using cached protobuf-3.20.3-py2.py3-none-any.whl (162 kB)\n",
      "Requirement already satisfied: numpy in /Users/bring/miniforge3/lib/python3.10/site-packages (from mediapipe-silicon) (1.23.4)\n",
      "Collecting absl-py\n",
      "  Using cached absl_py-1.3.0-py3-none-any.whl (124 kB)\n",
      "Requirement already satisfied: matplotlib in /Users/bring/miniforge3/lib/python3.10/site-packages (from mediapipe-silicon) (3.6.2)\n",
      "Requirement already satisfied: cycler>=0.10 in /Users/bring/miniforge3/lib/python3.10/site-packages (from matplotlib->mediapipe-silicon) (0.11.0)\n",
      "Requirement already satisfied: pillow>=6.2.0 in /Users/bring/miniforge3/lib/python3.10/site-packages (from matplotlib->mediapipe-silicon) (9.3.0)\n",
      "Requirement already satisfied: pyparsing>=2.2.1 in /Users/bring/miniforge3/lib/python3.10/site-packages (from matplotlib->mediapipe-silicon) (3.0.9)\n",
      "Requirement already satisfied: contourpy>=1.0.1 in /Users/bring/miniforge3/lib/python3.10/site-packages (from matplotlib->mediapipe-silicon) (1.0.6)\n",
      "Requirement already satisfied: python-dateutil>=2.7 in /Users/bring/miniforge3/lib/python3.10/site-packages (from matplotlib->mediapipe-silicon) (2.8.2)\n",
      "Requirement already satisfied: fonttools>=4.22.0 in /Users/bring/miniforge3/lib/python3.10/site-packages (from matplotlib->mediapipe-silicon) (4.38.0)\n",
      "Requirement already satisfied: packaging>=20.0 in /Users/bring/miniforge3/lib/python3.10/site-packages (from matplotlib->mediapipe-silicon) (21.3)\n",
      "Requirement already satisfied: kiwisolver>=1.0.1 in /Users/bring/miniforge3/lib/python3.10/site-packages (from matplotlib->mediapipe-silicon) (1.4.4)\n",
      "Requirement already satisfied: six>=1.5 in /Users/bring/miniforge3/lib/python3.10/site-packages (from python-dateutil>=2.7->matplotlib->mediapipe-silicon) (1.16.0)\n",
      "Installing collected packages: protobuf, opencv-contrib-python, absl-py, mediapipe-silicon\n",
      "Successfully installed absl-py-1.3.0 mediapipe-silicon-0.8.11 opencv-contrib-python-4.6.0.66 protobuf-3.20.3\n"
     ]
    }
   ],
   "source": [
    "#!pip install mediapipe-silicon opencv-python"
   ]
  },
  {
   "cell_type": "markdown",
   "id": "b52bfaee",
   "metadata": {},
   "source": [
    "## Import"
   ]
  },
  {
   "cell_type": "code",
   "execution_count": 1,
   "id": "3682b899",
   "metadata": {},
   "outputs": [
    {
     "name": "stderr",
     "output_type": "stream",
     "text": [
      "objc[1975]: Class CaptureDelegate is implemented in both /Users/bring/miniforge3/lib/python3.10/site-packages/cv2/cv2.abi3.so (0x163476480) and /Users/bring/miniforge3/lib/python3.10/site-packages/mediapipe/.dylibs/libopencv_videoio.3.4.16.dylib (0x1168a4860). One of the two will be used. Which one is undefined.\n",
      "objc[1975]: Class CVWindow is implemented in both /Users/bring/miniforge3/lib/python3.10/site-packages/cv2/cv2.abi3.so (0x1634764d0) and /Users/bring/miniforge3/lib/python3.10/site-packages/mediapipe/.dylibs/libopencv_highgui.3.4.16.dylib (0x11086ca68). One of the two will be used. Which one is undefined.\n",
      "objc[1975]: Class CVView is implemented in both /Users/bring/miniforge3/lib/python3.10/site-packages/cv2/cv2.abi3.so (0x1634764f8) and /Users/bring/miniforge3/lib/python3.10/site-packages/mediapipe/.dylibs/libopencv_highgui.3.4.16.dylib (0x11086ca90). One of the two will be used. Which one is undefined.\n",
      "objc[1975]: Class CVSlider is implemented in both /Users/bring/miniforge3/lib/python3.10/site-packages/cv2/cv2.abi3.so (0x163476520) and /Users/bring/miniforge3/lib/python3.10/site-packages/mediapipe/.dylibs/libopencv_highgui.3.4.16.dylib (0x11086cab8). One of the two will be used. Which one is undefined.\n"
     ]
    }
   ],
   "source": [
    "import cv2\n",
    "import mediapipe as mp\n",
    "import numpy as np\n",
    "mp_drawing = mp.solutions.drawing_utils\n",
    "mp_pose = mp.solutions.pose"
   ]
  },
  {
   "cell_type": "markdown",
   "id": "d9a59a5d",
   "metadata": {},
   "source": [
    "## 1. Make Detections"
   ]
  },
  {
   "cell_type": "markdown",
   "id": "ca196957",
   "metadata": {},
   "source": [
    "### Capture real-time from the webcam"
   ]
  },
  {
   "cell_type": "code",
   "execution_count": 8,
   "id": "d2c9457f",
   "metadata": {},
   "outputs": [],
   "source": [
    "#Change the video capture\n",
    "\n",
    "def make_1080p():\n",
    "    cap.set(3, 1920)\n",
    "    cap.set(4, 1080)\n",
    "\n",
    "def make_720p():\n",
    "    cap.set(3, 1280)\n",
    "    cap.set(4, 720)\n",
    "\n",
    "def make_480p():\n",
    "    cap.set(3, 640)\n",
    "    cap.set(4, 480)\n",
    "\n",
    "def change_res(width, height):\n",
    "    cap.set(3, width)\n",
    "    cap.set(4, height)"
   ]
  },
  {
   "cell_type": "markdown",
   "id": "0e780aba",
   "metadata": {},
   "source": [
    "## 2. Determine Joint"
   ]
  },
  {
   "cell_type": "code",
   "execution_count": 30,
   "id": "7bb031e6",
   "metadata": {
    "scrolled": false
   },
   "outputs": [],
   "source": [
    "# VIDEO FEED\n",
    "cap = cv2.VideoCapture(0)\n",
    "\n",
    "\n",
    "make_720p()\n",
    "\n",
    "\n",
    "## Setup mediapipe instance , min detection = 50% , min tracking = 50%\n",
    "with mp_pose.Pose(min_detection_confidence=0.5, min_tracking_confidence=0.5)as pose:\n",
    "    while cap.isOpened():\n",
    "        ret, frame = cap.read()\n",
    "        \n",
    "        #Detect stuff and render\n",
    "        #Recolor image to RGB\n",
    "        image = cv2.cvtColor(frame, cv2.COLOR_BGR2RGB)\n",
    "        image.flags.writeable = False\n",
    "        \n",
    "        #Make detection\n",
    "        results = pose.process(image)\n",
    "        \n",
    "        image.flags.writeable = True\n",
    "                \n",
    "        #Recolor image to BGR\n",
    "        image = cv2.cvtColor(image, cv2.COLOR_RGB2BGR)\n",
    "        \n",
    "        # Extract landmarks      \n",
    "        try:\n",
    "            landmarks = results.pose_landmarks.landmark\n",
    "        except:\n",
    "            pass\n",
    "        \n",
    "        #Render detections\n",
    "        mp_drawing.draw_landmarks(image, results.pose_landmarks, mp_pose.POSE_CONNECTIONS,\n",
    "                                  mp_drawing.DrawingSpec(color=(245,117,66), thickness=4, circle_radius=2),\n",
    "                                  mp_drawing.DrawingSpec(color=(245,66,230), thickness=4, circle_radius=2)\n",
    "                                 )\n",
    "        \n",
    "        \n",
    "\n",
    "        cv2.imshow('Mediapipe Feed',image)\n",
    "\n",
    "        if cv2.waitKey(10) & 0xFF == ord('q'):\n",
    "            break\n",
    "\n",
    "    cv2.destroyAllWindows()\n",
    "    cv2.waitKey(1)\n",
    "    cap.release()"
   ]
  },
  {
   "cell_type": "code",
   "execution_count": 5,
   "id": "5bd0baa7",
   "metadata": {},
   "outputs": [
    {
     "name": "stdout",
     "output_type": "stream",
     "text": [
      "PoseLandmark.NOSE\n",
      "PoseLandmark.LEFT_EYE_INNER\n",
      "PoseLandmark.LEFT_EYE\n",
      "PoseLandmark.LEFT_EYE_OUTER\n",
      "PoseLandmark.RIGHT_EYE_INNER\n",
      "PoseLandmark.RIGHT_EYE\n",
      "PoseLandmark.RIGHT_EYE_OUTER\n",
      "PoseLandmark.LEFT_EAR\n",
      "PoseLandmark.RIGHT_EAR\n",
      "PoseLandmark.MOUTH_LEFT\n",
      "PoseLandmark.MOUTH_RIGHT\n",
      "PoseLandmark.LEFT_SHOULDER\n",
      "PoseLandmark.RIGHT_SHOULDER\n",
      "PoseLandmark.LEFT_ELBOW\n",
      "PoseLandmark.RIGHT_ELBOW\n",
      "PoseLandmark.LEFT_WRIST\n",
      "PoseLandmark.RIGHT_WRIST\n",
      "PoseLandmark.LEFT_PINKY\n",
      "PoseLandmark.RIGHT_PINKY\n",
      "PoseLandmark.LEFT_INDEX\n",
      "PoseLandmark.RIGHT_INDEX\n",
      "PoseLandmark.LEFT_THUMB\n",
      "PoseLandmark.RIGHT_THUMB\n",
      "PoseLandmark.LEFT_HIP\n",
      "PoseLandmark.RIGHT_HIP\n",
      "PoseLandmark.LEFT_KNEE\n",
      "PoseLandmark.RIGHT_KNEE\n",
      "PoseLandmark.LEFT_ANKLE\n",
      "PoseLandmark.RIGHT_ANKLE\n",
      "PoseLandmark.LEFT_HEEL\n",
      "PoseLandmark.RIGHT_HEEL\n",
      "PoseLandmark.LEFT_FOOT_INDEX\n",
      "PoseLandmark.RIGHT_FOOT_INDEX\n"
     ]
    }
   ],
   "source": [
    "for lnd in mp_pose.PoseLandmark:\n",
    "    print(lnd)"
   ]
  },
  {
   "cell_type": "code",
   "execution_count": 6,
   "id": "e5bd62fa",
   "metadata": {},
   "outputs": [
    {
     "data": {
      "text/plain": [
       "x: 0.7534187\n",
       "y: 0.86692345\n",
       "z: -0.3127252\n",
       "visibility: 0.99754316"
      ]
     },
     "execution_count": 6,
     "metadata": {},
     "output_type": "execute_result"
    }
   ],
   "source": [
    "landmarks[mp_pose.PoseLandmark.LEFT_SHOULDER.value]"
   ]
  },
  {
   "cell_type": "code",
   "execution_count": 7,
   "id": "9e52edfc",
   "metadata": {},
   "outputs": [
    {
     "data": {
      "text/plain": [
       "x: 0.8586798\n",
       "y: 1.3549049\n",
       "z: -0.3893377\n",
       "visibility: 0.10838135"
      ]
     },
     "execution_count": 7,
     "metadata": {},
     "output_type": "execute_result"
    }
   ],
   "source": [
    "landmarks[mp_pose.PoseLandmark.LEFT_ELBOW.value]"
   ]
  },
  {
   "cell_type": "code",
   "execution_count": 8,
   "id": "89b166db",
   "metadata": {},
   "outputs": [
    {
     "data": {
      "text/plain": [
       "x: 0.8361805\n",
       "y: 1.7303648\n",
       "z: -0.75784105\n",
       "visibility: 0.029700732"
      ]
     },
     "execution_count": 8,
     "metadata": {},
     "output_type": "execute_result"
    }
   ],
   "source": [
    "landmarks[mp_pose.PoseLandmark.LEFT_WRIST.value]"
   ]
  },
  {
   "cell_type": "markdown",
   "id": "958df1b3",
   "metadata": {},
   "source": [
    "## 3. Calculate the Angles."
   ]
  },
  {
   "cell_type": "code",
   "execution_count": 20,
   "id": "3c0b6cdc",
   "metadata": {},
   "outputs": [],
   "source": [
    "def calculate_angle(a,b,c):\n",
    "    a = np.array(a) #First\n",
    "    b = np.array(b) #Mid\n",
    "    c = np.array(c) #End\n",
    "    \n",
    "    radian = np.arctan2(c[1]-b[1], c[0]-b[0]) - np.arctan2(a[1]-b[1], a[0]-b[0])\n",
    "    angle = np.abs(radian * 180/np.pi)\n",
    "    \n",
    "    if angle > 180:\n",
    "        angle = 360 - angle\n",
    "        \n",
    "    return angle"
   ]
  },
  {
   "cell_type": "code",
   "execution_count": 21,
   "id": "9e4607d9",
   "metadata": {},
   "outputs": [],
   "source": [
    "shoulder = [landmarks[mp_pose.PoseLandmark.LEFT_SHOULDER.value].x, \n",
    "            landmarks[mp_pose.PoseLandmark.LEFT_SHOULDER.value].y]\n",
    "elbow = [landmarks[mp_pose.PoseLandmark.LEFT_ELBOW.value].x, \n",
    "            landmarks[mp_pose.PoseLandmark.LEFT_ELBOW.value].y]\n",
    "wrist = [landmarks[mp_pose.PoseLandmark.LEFT_WRIST.value].x, \n",
    "            landmarks[mp_pose.PoseLandmark.LEFT_WRIST.value].y]\n",
    "hip = [landmarks[mp_pose.PoseLandmark.LEFT_HIP.value].x, \n",
    "            landmarks[mp_pose.PoseLandmark.LEFT_HIP.value].y]"
   ]
  },
  {
   "cell_type": "code",
   "execution_count": 12,
   "id": "fb0b427e",
   "metadata": {},
   "outputs": [
    {
     "data": {
      "text/plain": [
       "[0.7534186840057373, 0.866923451423645]"
      ]
     },
     "execution_count": 12,
     "metadata": {},
     "output_type": "execute_result"
    }
   ],
   "source": []
  },
  {
   "cell_type": "code",
   "execution_count": 15,
   "id": "db07efdb",
   "metadata": {},
   "outputs": [
    {
     "data": {
      "text/plain": [
       "163.35067760928752"
      ]
     },
     "execution_count": 15,
     "metadata": {},
     "output_type": "execute_result"
    }
   ],
   "source": [
    "calculate_angle(shoulder, elbow, wrist)"
   ]
  },
  {
   "cell_type": "code",
   "execution_count": 18,
   "id": "dadab007",
   "metadata": {},
   "outputs": [
    {
     "data": {
      "text/plain": [
       "16.321276789536654"
      ]
     },
     "execution_count": 18,
     "metadata": {},
     "output_type": "execute_result"
    }
   ],
   "source": [
    "calculate_angle(hip, shoulder, elbow)"
   ]
  },
  {
   "cell_type": "code",
   "execution_count": 33,
   "id": "b9af0399",
   "metadata": {},
   "outputs": [],
   "source": [
    "# VIDEO FEED\n",
    "cap = cv2.VideoCapture(0)\n",
    "\n",
    "make_720p()\n",
    "\n",
    "\n",
    "## Setup mediapipe instance , min detection = 50% , min tracking = 50%\n",
    "with mp_pose.Pose(min_detection_confidence=0.5, min_tracking_confidence=0.5)as pose:\n",
    "    while cap.isOpened():\n",
    "        ret, frame = cap.read()\n",
    "        \n",
    "        #Detect stuff and render\n",
    "        #Recolor image to RGB\n",
    "        image = cv2.cvtColor(frame, cv2.COLOR_BGR2RGB)\n",
    "        image.flags.writeable = False\n",
    "        \n",
    "        #Make detection\n",
    "        results = pose.process(image)\n",
    "        \n",
    "        image.flags.writeable = True\n",
    "                \n",
    "        #Recolor image to BGR\n",
    "        image = cv2.cvtColor(image, cv2.COLOR_RGB2BGR)\n",
    "        \n",
    "        # Extract landmarks      \n",
    "        try:\n",
    "            #get coordinates\n",
    "            landmarks = results.pose_landmarks.landmark\n",
    "            hip = [landmarks[mp_pose.PoseLandmark.LEFT_HIP.value].x, \n",
    "                   landmarks[mp_pose.PoseLandmark.LEFT_HIP.value].y]\n",
    "            shoulder = [landmarks[mp_pose.PoseLandmark.LEFT_SHOULDER.value].x, \n",
    "                        landmarks[mp_pose.PoseLandmark.LEFT_SHOULDER.value].y]\n",
    "            elbow = [landmarks[mp_pose.PoseLandmark.LEFT_ELBOW.value].x, \n",
    "                     landmarks[mp_pose.PoseLandmark.LEFT_ELBOW.value].y]\n",
    "            wrist = [landmarks[mp_pose.PoseLandmark.LEFT_WRIST.value].x, \n",
    "                     landmarks[mp_pose.PoseLandmark.LEFT_WRIST.value].y]\n",
    "            elbow_angle = calculate_angle(shoulder, elbow, wrist)\n",
    "            shoulder_angle = calculate_angle(hip, shoulder, elbow)\n",
    "            #visualization\n",
    "            angle = shoulder_angle\n",
    "            cv2.putText(image, str(round(angle,3)), tuple(np.multiply(shoulder, [1280,720]).astype(int)),\n",
    "                             cv2.FONT_HERSHEY_SIMPLEX, 0.5, (255,255,255),2, cv2.LINE_AA\n",
    "                       )\n",
    "        except:\n",
    "            pass\n",
    "        \n",
    "        #Render detections\n",
    "        mp_drawing.draw_landmarks(image, results.pose_landmarks, mp_pose.POSE_CONNECTIONS,\n",
    "                                  mp_drawing.DrawingSpec(color=(245,117,66), thickness=4, circle_radius=2),\n",
    "                                  mp_drawing.DrawingSpec(color=(245,66,230), thickness=4, circle_radius=2)\n",
    "                                 )\n",
    "        \n",
    "        \n",
    "\n",
    "        cv2.imshow('Mediapipe Feed',image)\n",
    "\n",
    "        if cv2.waitKey(10) & 0xFF == ord('q'):\n",
    "            break\n",
    "\n",
    "    cv2.destroyAllWindows()\n",
    "    cv2.waitKey(1)\n",
    "    cap.release()"
   ]
  },
  {
   "cell_type": "markdown",
   "id": "3af3a05f",
   "metadata": {},
   "source": [
    "## 4. CURL Counter"
   ]
  },
  {
   "cell_type": "code",
   "execution_count": 35,
   "id": "45fdede9",
   "metadata": {},
   "outputs": [
    {
     "name": "stdout",
     "output_type": "stream",
     "text": [
      "1\n",
      "2\n",
      "3\n",
      "4\n",
      "5\n",
      "6\n",
      "7\n",
      "8\n",
      "9\n"
     ]
    }
   ],
   "source": [
    "# VIDEO FEED\n",
    "cap = cv2.VideoCapture(0)\n",
    "\n",
    "make_720p()\n",
    "\n",
    "#Curl counter variables\n",
    "counter = 0\n",
    "stage = None\n",
    "\n",
    "\n",
    "\n",
    "\n",
    "## Setup mediapipe instance , min detection = 50% , min tracking = 50%\n",
    "with mp_pose.Pose(min_detection_confidence=0.5, min_tracking_confidence=0.5)as pose:\n",
    "    while cap.isOpened():\n",
    "        ret, frame = cap.read()\n",
    "        \n",
    "        #Detect stuff and render\n",
    "        #Recolor image to RGB\n",
    "        image = cv2.cvtColor(frame, cv2.COLOR_BGR2RGB)\n",
    "        image.flags.writeable = False\n",
    "        \n",
    "        #Make detection\n",
    "        results = pose.process(image)\n",
    "        \n",
    "        image.flags.writeable = True\n",
    "                \n",
    "        #Recolor image to BGR\n",
    "        image = cv2.cvtColor(image, cv2.COLOR_RGB2BGR)\n",
    "        \n",
    "        # Extract landmarks      \n",
    "        try:\n",
    "            #get coordinates\n",
    "            landmarks = results.pose_landmarks.landmark\n",
    "            hip = [landmarks[mp_pose.PoseLandmark.LEFT_HIP.value].x, \n",
    "                   landmarks[mp_pose.PoseLandmark.LEFT_HIP.value].y]\n",
    "            shoulder = [landmarks[mp_pose.PoseLandmark.LEFT_SHOULDER.value].x, \n",
    "                        landmarks[mp_pose.PoseLandmark.LEFT_SHOULDER.value].y]\n",
    "            elbow = [landmarks[mp_pose.PoseLandmark.LEFT_ELBOW.value].x, \n",
    "                     landmarks[mp_pose.PoseLandmark.LEFT_ELBOW.value].y]\n",
    "            wrist = [landmarks[mp_pose.PoseLandmark.LEFT_WRIST.value].x, \n",
    "                     landmarks[mp_pose.PoseLandmark.LEFT_WRIST.value].y]\n",
    "            elbow_angle = calculate_angle(shoulder, elbow, wrist)\n",
    "            #shoulder_angle = calculate_angle(hip, shoulder, elbow)\n",
    "            #visualization\n",
    "            angle = elbow_angle\n",
    "            cv2.putText(image, str(round(angle,3)), tuple(np.multiply(elbow, [1280,720]).astype(int)),\n",
    "                             cv2.FONT_HERSHEY_SIMPLEX, 0.5, (255,255,255),2, cv2.LINE_AA\n",
    "                       )\n",
    "            # Curl counter logic\n",
    "            if angle > 160:\n",
    "                stage = \"down\"\n",
    "            if angle < 30 and stage == 'down':\n",
    "                stage = \"up\"\n",
    "                counter += 1\n",
    "                print(counter)\n",
    "        except:\n",
    "            pass\n",
    "        \n",
    "        # Render curl counter\n",
    "        # Setup status box\n",
    "        cv2.rectangle(image, (0,0), (255,73), (245, 117, 16), -1)\n",
    "        #rep counter\n",
    "        cv2.putText(image, 'REPS', (15,12),\n",
    "                   cv2.FONT_HERSHEY_SIMPLEX, 0.5, (0,0,0), 1, cv2.LINE_AA)\n",
    "        cv2.putText(image, str(counter), \n",
    "                    (10,60),\n",
    "                    cv2.FONT_HERSHEY_SIMPLEX, 2, (255,255,255), 2, cv2.LINE_AA)\n",
    "        \n",
    "        \n",
    "        #Render detections\n",
    "        mp_drawing.draw_landmarks(image, results.pose_landmarks, mp_pose.POSE_CONNECTIONS,\n",
    "                                  mp_drawing.DrawingSpec(color=(245,117,66), thickness=4, circle_radius=2),\n",
    "                                  mp_drawing.DrawingSpec(color=(245,66,230), thickness=4, circle_radius=2)\n",
    "                                 )\n",
    "        \n",
    "        \n",
    "\n",
    "        cv2.imshow('Mediapipe Feed',image)\n",
    "\n",
    "        if cv2.waitKey(10) & 0xFF == ord('q'):\n",
    "            break\n",
    "\n",
    "    cv2.destroyAllWindows()\n",
    "    cv2.waitKey(1)\n",
    "    cap.release()"
   ]
  },
  {
   "cell_type": "code",
   "execution_count": null,
   "id": "ddf0102e",
   "metadata": {},
   "outputs": [],
   "source": []
  }
 ],
 "metadata": {
  "kernelspec": {
   "display_name": "Python 3 (ipykernel)",
   "language": "python",
   "name": "python3"
  },
  "language_info": {
   "codemirror_mode": {
    "name": "ipython",
    "version": 3
   },
   "file_extension": ".py",
   "mimetype": "text/x-python",
   "name": "python",
   "nbconvert_exporter": "python",
   "pygments_lexer": "ipython3",
   "version": "3.10.6"
  }
 },
 "nbformat": 4,
 "nbformat_minor": 5
}
